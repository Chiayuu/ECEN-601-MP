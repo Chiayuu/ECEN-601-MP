{
 "cells": [
  {
   "cell_type": "code",
   "execution_count": 2,
   "id": "13385ee6",
   "metadata": {},
   "outputs": [],
   "source": [
    "#import area\n",
    "\n",
    "import numpy as np\n",
    "from scipy.optimize import linprog\n",
    "import matplotlib.pyplot as plt\n"
   ]
  },
  {
   "cell_type": "code",
   "execution_count": 3,
   "id": "4019a9c1",
   "metadata": {},
   "outputs": [],
   "source": [
    "#define function\n",
    "def saddlepoint(A):\n",
    "\n",
    "    row = len(A)\n",
    "    col = len(A[0])\n",
    "\n",
    "    Amax = np.max(np.abs(A))\n",
    "    \n",
    "    #for X\n",
    "    \n",
    "    print(\"===FOR X===\")\n",
    "    xvector = np.zeros(row)\n",
    "    xvector = np.append(xvector,-1)\n",
    "    #xvector = np.reshape(xvector, (-1, 1))\n",
    "    A = np.array(A)\n",
    "    bvector = np.transpose(-A)\n",
    "    bvector = np.concatenate((bvector,np.ones((bvector.shape[0],1))),axis=1)\n",
    "    #print(\"xvector:\\n\",xvector)\n",
    "    #print(\"bvector:\\n\",bvector)\n",
    "    aeqx = np.ones(row)\n",
    "    aeqx = np.append(aeqx,0)\n",
    "    aeqx = np.reshape(aeqx, (1, -1))\n",
    "    beqx = 1\n",
    "    box = np.zeros(col)\n",
    "    lbox = np.zeros(row)\n",
    "    lbox = np.append(lbox,-Amax)\n",
    "    lbox = np.reshape(lbox, (-1, 1))\n",
    "    ubox = np.ones(row)\n",
    "    ubox = np.append(ubox,Amax)\n",
    "    ubox = np.reshape(ubox, (-1, 1))\n",
    "    bunds = np.concatenate((lbox,ubox),axis=1)\n",
    "    \n",
    "    #print(\"aeqx:\\n\",aeqx)\n",
    "    #print(\"beqx:\\n\",beqx)\n",
    "    #print(\"box:\\n\",box)\n",
    "    #print(\"lbox:\\n\",lbox)\n",
    "    #print(\"ubox:\\n\",ubox)\n",
    "    \n",
    "    X = linprog(c=xvector,A_ub=bvector,b_ub=box,A_eq=aeqx,b_eq=beqx, bounds=bunds, method=\"revised simplex\")\n",
    "    print(\"X saddle point:\\n\",X.x)\n",
    "\n",
    "    #for Y\n",
    "    print(\"===FOR Y===\")    \n",
    "    yvector = np.zeros(col)\n",
    "    yvector = np.append(yvector,-1)\n",
    "  \n",
    "    y_bvector = A\n",
    "    y_bvector = np.concatenate((y_bvector,np.ones((y_bvector.shape[0],1))),axis=1)\n",
    "\n",
    "    #print(\"yvector:\\n\",yvector)\n",
    "    #print(\"y_bvector:\\n\",y_bvector)\n",
    "    y_aeqx = np.ones(col)\n",
    "    y_aeqx = np.append(y_aeqx,0)\n",
    "    y_aeqx = np.reshape(y_aeqx, (1, -1))\n",
    "    y_beqx = 1\n",
    "    y_box = np.zeros(row)\n",
    "    y_lbox = np.zeros(col)\n",
    "    y_lbox = np.append(y_lbox,-Amax)\n",
    "    y_lbox = np.reshape(y_lbox, (-1, 1))\n",
    "    y_ubox = np.ones(col)\n",
    "    y_ubox = np.append(y_ubox,Amax)\n",
    "    y_ubox = np.reshape(y_ubox, (-1, 1))\n",
    "    y_bunds = np.concatenate((y_lbox,y_ubox),axis=1)\n",
    "    \n",
    "    #print(\"y_aeqx:\\n\",y_aeqx)\n",
    "    #print(\"y_beqx:\\n\",y_beqx)\n",
    "    #print(\"y_box:\\n\",y_box)\n",
    "    #print(\"y_lbox:\\n\",y_lbox)\n",
    "    #print(\"y_ubox:\\n\",y_ubox)\n",
    "    \n",
    "    \n",
    "    Y = linprog(c=yvector,A_ub=y_bvector,b_ub=y_box,A_eq=y_aeqx,b_eq=y_beqx, bounds=y_bunds, method=\"revised simplex\")\n",
    "    y = Y.x    \n",
    "    print(\"Y saddle point:\\n\",y)\n",
    "\n",
    "    "
   ]
  },
  {
   "cell_type": "code",
   "execution_count": 4,
   "id": "1ad45b14",
   "metadata": {},
   "outputs": [
    {
     "name": "stdout",
     "output_type": "stream",
     "text": [
      "---------------------------Q1---------------------------\n",
      "===FOR X===\n",
      "X saddle point:\n",
      " [0.57142857 0.42857143 0.         3.14285714]\n",
      "===FOR Y===\n",
      "Y saddle point:\n",
      " [ 0.71428571  0.          0.28571429  0.         -3.14285714]\n",
      "---------------------------Q2---------------------------\n",
      "===FOR X===\n",
      "X saddle point:\n",
      " [0.36363636 0.34965035 0.28671329 0.67132867]\n",
      "===FOR Y===\n",
      "Y saddle point:\n",
      " [ 0.30769231  0.29370629  0.3986014  -0.67132867]\n",
      "---------------------------Q3---------------------------\n",
      "===FOR X===\n",
      "X saddle point:\n",
      " [0.16216216 0.54054054 0.         0.2972973  3.27027027]\n",
      "===FOR Y===\n",
      "Y saddle point:\n",
      " [ 0.37837838  0.10810811  0.          0.51351351  0.         -3.27027027]\n"
     ]
    }
   ],
   "source": [
    "#Result\n",
    "A1 = [[4, 3, 1, 4],[2, 5, 6, 3],[1, 0, 7, 0]]\n",
    "A2 = [[0,5,-2],[-3,0,4],[6,-4,0]]\n",
    "A3 = [[5,8,3,1,6],[4,2,6,3,5],[2,4,6,4,1],[1,3,2,5,3]]\n",
    "print(\"---------------------------Q1---------------------------\")\n",
    "saddlepoint(A1)\n",
    "print(\"---------------------------Q2---------------------------\")\n",
    "saddlepoint(A2)\n",
    "print(\"---------------------------Q3---------------------------\")\n",
    "saddlepoint(A3)"
   ]
  },
  {
   "cell_type": "code",
   "execution_count": 25,
   "id": "07d24d4f",
   "metadata": {},
   "outputs": [
    {
     "data": {
      "image/png": "[encoded data removed]",
      "text/plain": [
       "<Figure size 432x288 with 1 Axes>"
      ]
     },
     "metadata": {
      "needs_background": "light"
     },
     "output_type": "display_data"
    },
    {
     "data": {
      "image/png": "[encoded data removed]",
      "text/plain": [
       "<Figure size 432x288 with 1 Axes>"
      ]
     },
     "metadata": {
      "needs_background": "light"
     },
     "output_type": "display_data"
    }
   ],
   "source": [
    "# Q4\n",
    "A = [[4, 3, 1, 4],[2, 5, 6, 3],[1, 0, 7, 0]]\n",
    "\n",
    "row = len(A)\n",
    "col = len(A[0])\n",
    "\n",
    "X = np.eye(row,1)\n",
    "Y = np.eye(col,1)\n",
    "\n",
    "for n in range (1,5000):\n",
    "    \n",
    "    x = X/n\n",
    "    y = Y/n\n",
    "\n",
    "    p1 = np.dot(A,y)\n",
    "    p2 = np.dot(np.transpose(x),A)\n",
    "    #print(p1)\n",
    "\n",
    "    #pure strategy\n",
    "    p1max = np.max(p1)\n",
    "    p2min = np.min(p2)\n",
    "    m1 = np.argmax(p1)\n",
    "    m2 = np.argmin(p2)\n",
    "\n",
    "\n",
    "    X[m1] = X[m1]+1\n",
    "    Y[m2] = Y[m2]+1\n",
    "    \n",
    "    if p1max == p2min :\n",
    "        break\n",
    "    #print(x[0])\n",
    "    #plot area\n",
    "    #print(y)\n",
    "    plt.figure(1)\n",
    "    plt.title(\"P1\")\n",
    "    plt.plot(n,x[0],'ro',markersize=2)\n",
    "    plt.plot(n,x[1],'bo',markersize=2)\n",
    "    plt.plot(n,y[1],'go',markersize=2)\n",
    "    plt.plot(n,y[3],'ko',markersize=2)\n",
    "    plt.figure(2)\n",
    "    plt.title(\"P2\")\n",
    "    plt.plot(n,x[2],'ro',markersize=2)\n",
    "    plt.plot(n,y[0],'bo',markersize=2)\n",
    "    plt.plot(n,y[2],'go',markersize=2)\n",
    "    plt.plot(n,y[3],'ko',markersize=2)\n",
    "    \n",
    "\n",
    "plt.show()\n",
    "\n",
    "\n",
    "\n",
    "\n",
    "\n",
    "\n",
    "\n"
   ]
  },
  {
   "cell_type": "code",
   "execution_count": null,
   "id": "2eb2f4da",
   "metadata": {},
   "outputs": [],
   "source": []
  }
 ],
 "metadata": {
  "kernelspec": {
   "display_name": "Python 3",
   "language": "python",
   "name": "python3"
  },
  "language_info": {
   "codemirror_mode": {
    "name": "ipython",
    "version": 3
   },
   "file_extension": ".py",
   "mimetype": "text/x-python",
   "name": "python",
   "nbconvert_exporter": "python",
   "pygments_lexer": "ipython3",
   "version": "3.8.8"
  }
 },
 "nbformat": 4,
 "nbformat_minor": 5
}
